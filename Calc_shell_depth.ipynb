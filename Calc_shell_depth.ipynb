{
 "cells": [
  {
   "cell_type": "markdown",
   "metadata": {},
   "source": [
    "# NB! At the moment the code works for pure metal and MeO nanoparticles, but not for oxides that contain multiple different metals."
   ]
  },
  {
   "cell_type": "code",
   "execution_count": 1,
   "metadata": {},
   "outputs": [],
   "source": [
    "# Importing functions from uppin_fns.py\n",
    "from math import sqrt\n",
    "from uppin_fns import gen_data, kneedle, find_coord, xyz_freeze_core\n",
    "\n",
    "# For charged atoms i have used ionic radii (crystal) [https://en.wikipedia.org/wiki/Ionic_radius]\n",
    "# For neutral atoms I have used atomic radii [https://en.wikipedia.org/wiki/Atomic_radii_of_the_elements_(data_page)]\n",
    "# This dictionary can be modified if the atom types under study are not listed in it.\n",
    "ionic_radii={'O2-':1.26,'Ti4+':0.745,'Si4+':0.54,'Au0':1.44,'Zn2+':0.88,'Ce4+':1.01,'Co0':1.25}"
   ]
  },
  {
   "cell_type": "markdown",
   "metadata": {},
   "source": [
    "## User input:"
   ]
  },
  {
   "cell_type": "code",
   "execution_count": 2,
   "metadata": {},
   "outputs": [
    {
     "name": "stdout",
     "output_type": "stream",
     "text": [
      "Maximum radius of nanoparticle is: 1.56\n"
     ]
    }
   ],
   "source": [
    "filename = 'TiO2_3nm.xyz' #Name of the XYZ file to be analyzed\n",
    "# Define the two atoms that are coordinated with eachother: \n",
    "particle1 = 'Ti4+'\n",
    "particle2 = 'O2-' # For pure metal particle1 should be the same as particle2.\n",
    "r_bond = 1.1*(ionic_radii[particle1]+ionic_radii[particle2]) #Cut-off bond length calculated in angstoms\n",
    "#r_bond = 2.2055 \n",
    "\n",
    "\n",
    "data,max_r = gen_data(filename,r_bond) # Generates necessary input for the calculations below\n",
    "print(f'Maximum radius of nanoparticle is: {max_r}')"
   ]
  },
  {
   "cell_type": "code",
   "execution_count": 3,
   "metadata": {},
   "outputs": [],
   "source": [
    "# Define the search radius for ideal shell depth.\n",
    "## Make sure that the maximum value is a bit smaller than the Maximum radius of NP.\n",
    "## Otherwise there will not be any atoms in the shell and the next steps will fail.\n",
    "# At the moment defined as 0.1 nm to 1.0 nm with 0.1 nm step. \n",
    "test_dist = [i/10 for i in range(2,10,1)] "
   ]
  },
  {
   "cell_type": "markdown",
   "metadata": {},
   "source": [
    "## Calculation of optimal shell depth:"
   ]
  },
  {
   "cell_type": "markdown",
   "metadata": {},
   "source": [
    "### Here we use kneedle function:\n",
    "#### kneedle(distances, input_data, atom_type, show_graph) -> Optimal_shell_depth\n",
    "\n",
    "### Inputs:\n",
    "#### distances - list of distances to be tested\n",
    "#### input_data - data generated from the xyz_file with gen_data function\n",
    "#### atom_type - has three options ('all', 'Me', 'O'), but 'all' is defined as default value\n",
    "#### show_graph - Shows the C.N. vs shell depth on graph. Options (True, False) and is True by default.\n",
    "\n",
    "### Output:\n",
    "#### Optimal_shell_depth - given as a floating point number."
   ]
  },
  {
   "cell_type": "code",
   "execution_count": 4,
   "metadata": {},
   "outputs": [
    {
     "data": {
      "image/png": "[encoded data removed]",
      "text/plain": [
       "<Figure size 432x288 with 1 Axes>"
      ]
     },
     "metadata": {
      "needs_background": "light"
     },
     "output_type": "display_data"
    },
    {
     "name": "stdout",
     "output_type": "stream",
     "text": [
      "Optimal shell depth according to all atoms: 0.4 nm\n"
     ]
    }
   ],
   "source": [
    "shell_depth_all = kneedle(test_dist, data)\n",
    "print(f'Optimal shell depth according to all atoms: {shell_depth_all} nm')"
   ]
  },
  {
   "cell_type": "markdown",
   "metadata": {},
   "source": [
    "# Optional:\n",
    "## Shell depth calculation according to only Me or O atoms:"
   ]
  },
  {
   "cell_type": "code",
   "execution_count": 5,
   "metadata": {},
   "outputs": [
    {
     "name": "stdout",
     "output_type": "stream",
     "text": [
      "Optimal shell depth according to Me atoms: 0.4 nm\n"
     ]
    }
   ],
   "source": [
    "# According to metal atoms:\n",
    "shell_depth_Me = kneedle(test_dist, data, 'Me', False)\n",
    "print(f'Optimal shell depth according to Me atoms: {shell_depth_Me} nm')\n"
   ]
  },
  {
   "cell_type": "code",
   "execution_count": 6,
   "metadata": {},
   "outputs": [
    {
     "name": "stdout",
     "output_type": "stream",
     "text": [
      "Optimal shell depth according to O atoms: 0.5 nm\n"
     ]
    }
   ],
   "source": [
    "# According to oxygen atoms:\n",
    "shell_depth_O = kneedle(test_dist, data, 'O', False)\n",
    "print(f'Optimal shell depth according to O atoms: {shell_depth_O} nm')"
   ]
  },
  {
   "cell_type": "markdown",
   "metadata": {},
   "source": [
    "## Calculation on average coordination number (C.N.) for different types of atoms:"
   ]
  },
  {
   "cell_type": "markdown",
   "metadata": {},
   "source": [
    "### Here we use find_coord function:\n",
    "#### find_coord(input_data, atom_type, shell_depth)\n",
    "\n",
    "### Inputs:\n",
    "#### input_data - data generated from the xyz_file with gen_data function (the same as for kneedle function).\n",
    "#### atom_type -  has three options ('all', 'Me', 'O'). 'all' is defined as default value.\n",
    "#### shell_depth - user defined shell depth (floating point number). Has a default value of 0.5 nm.\n",
    "\n",
    "### Output:\n",
    "#### Prints the coordination numbers in three regions (whole NP, NP core and NP shell)."
   ]
  },
  {
   "cell_type": "code",
   "execution_count": 7,
   "metadata": {},
   "outputs": [
    {
     "name": "stdout",
     "output_type": "stream",
     "text": [
      "\u001b[1mAvg. C.N. of all atoms:\n",
      "\u001b[0mIn nanoparticle: 3.59\n",
      "In core region: 3.92\n",
      "In shell region: 3.3\n",
      "\n",
      "\u001b[1mAvg. C.N. of Me atoms:\n",
      "\u001b[0mIn nanoparticle: 5.38\n",
      "In core region: 6.0\n",
      "In shell region: 5.04\n",
      "\n",
      "\u001b[1mAvg. C.N. of O atoms:\n",
      "\u001b[0mIn nanoparticle: 2.69\n",
      "In core region: 3.0\n",
      "In shell region: 2.53\n",
      "\n"
     ]
    }
   ],
   "source": [
    "find_coord(data, 'all',shell_depth_all)\n",
    "find_coord(data, 'Me',0.5)\n",
    "find_coord(data, 'O',0.5)"
   ]
  },
  {
   "cell_type": "markdown",
   "metadata": {},
   "source": [
    "## Make a .xyz file with '! T T T' command added to core atoms."
   ]
  },
  {
   "cell_type": "markdown",
   "metadata": {},
   "source": [
    "### Here we use xyz_freeze_core function:\n",
    "#### xyz_freeze_core(input_data, shell_depth, Me_atom, o_file_name) -> .xyz file\n",
    "\n",
    "### Inputs:\n",
    "#### input_data - data generated from the xyz_file with gen_data function (the same as for kneedle function).\n",
    "#### shell_depth - user defined shell depth (floating point number). Has a default value of 0.5 nm.\n",
    "#### Me_atom - The name of the Me atoms to convert it back to its original form. It has been changed to 1!!\n",
    "#### o_file__name - Give your output file a name. Default value for convenience is Freeze.xyz.\n",
    "\n",
    "### Output:\n",
    "#### Outputs .xyz file with the name that was given"
   ]
  },
  {
   "cell_type": "code",
   "execution_count": 8,
   "metadata": {},
   "outputs": [],
   "source": [
    "xyz_freeze_core(data, 0.5, 'Ti', 'TiO2_freeze.xyz')"
   ]
  },
  {
   "cell_type": "markdown",
   "metadata": {},
   "source": [
    "## XYZ to POSCAR"
   ]
  },
  {
   "cell_type": "markdown",
   "metadata": {},
   "source": [
    "### Here we use xyz2POSCAR function (https://github.com/lqcata/xyz2POSCAR with minor modifications):\n",
    "#### xyz2POSCAR(input_name,output_name, move_COM) -> POSCAR file\n",
    "\n",
    "### Inputs:\n",
    "#### input_name - xyz file name to use as input.\n",
    "#### output_name - name of the output file. Has default value 'POSCAR'.\n",
    "#### move_COM - Option to move center-of-mass to the center of the POSCAR box. Has default value of True.\n",
    "\n",
    "### Output:\n",
    "#### Outputs POSCAR file with given name."
   ]
  },
  {
   "cell_type": "code",
   "execution_count": 10,
   "metadata": {},
   "outputs": [
    {
     "name": "stdout",
     "output_type": "stream",
     "text": [
      "Do you want to type by hand or use the default vaules ( 40 x 40 x 40) ?\n",
      "y\n",
      "please enter a direction: 60\n",
      "please enter b direction: 70\n",
      "please enter c direction: 80\n",
      "Done! the POSCAR is named as POSCAR\n"
     ]
    }
   ],
   "source": [
    "from get_POSCAR_modified import xyz2POSCAR\n",
    "\n",
    "xyz2POSCAR('TiO2_freeze.xyz')"
   ]
  }
 ],
 "metadata": {
  "kernelspec": {
   "display_name": "Python 3",
   "language": "python",
   "name": "python3"
  },
  "language_info": {
   "codemirror_mode": {
    "name": "ipython",
    "version": 3
   },
   "file_extension": ".py",
   "mimetype": "text/x-python",
   "name": "python",
   "nbconvert_exporter": "python",
   "pygments_lexer": "ipython3",
   "version": "3.7.6"
  }
 },
 "nbformat": 4,
 "nbformat_minor": 4
}
